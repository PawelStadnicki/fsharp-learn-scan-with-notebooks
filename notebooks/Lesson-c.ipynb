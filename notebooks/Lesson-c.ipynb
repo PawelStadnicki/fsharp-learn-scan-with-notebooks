{
 "cells": [
  {
   "cell_type": "markdown",
   "metadata": {},
   "source": [
    "<h2>Lesson c: Evaluate our human-driven hint search algorithm"
   ]
  },
  {
   "cell_type": "markdown",
   "metadata": {},
   "source": [
    "We want to embrace our current <i>scan</i> implementation with simple domain monitoring. "
   ]
  },
  {
   "cell_type": "code",
   "execution_count": null,
   "metadata": {
    "dotnet_interactive": {
     "language": "fsharp"
    }
   },
   "outputs": [
    {
     "data": {
      "text/plain": "Open Government Licence – Toronto\r\n(https://www.toronto.ca/city-government/data-research-maps/open-data/open-data-licence/)\r\nAttribution: Contains information licensed under the Open Government Licence – Toronto"
     },
     "output_type": "unknown"
    }
   ],
   "source": [
    "#load \"\"\"Domain.fsx\"\"\"\r\n",
    "#load \"\"\"Cities\\Toronto.fsx\"\"\"\r\n",
    "\r\n",
    "open Domain\r\n",
    "\r\n",
    "Toronto.license.info |> display\r\n",
    "\r\n",
    "let addresses , districts, streets, summary = \r\n",
    "    setup Toronto.data Area.Neighbourhoods (Limit.Streets 500) \r\n",
    "\r\n",
    "let positions = addresses |> Array.map (fun x -> x.Pos) |> Array.toList\r\n",
    "\r\n",
    "let indexedDistricts = districts |> Array.indexed"
   ]
  },
  {
   "cell_type": "markdown",
   "metadata": {},
   "source": [
    "Now we need to adapt our <i>hintSearch</i> human-driven algorithm slightly.\r\n",
    "To mark computation as avoid or not we should  appropriate annotation. We could use true/false for that but let's use more descriptive type:"
   ]
  },
  {
   "cell_type": "code",
   "execution_count": null,
   "metadata": {
    "dotnet_interactive": {
     "language": "fsharp"
    }
   },
   "outputs": [],
   "source": [
    "type HintResult = Hit | Missed"
   ]
  },
  {
   "cell_type": "markdown",
   "metadata": {},
   "source": [
    "Apparently to apply that type we only have to modify the algorithm in to places.\r\n",
    "Notice that <b>scan</b> usage hasn't change at all"
   ]
  },
  {
   "cell_type": "code",
   "execution_count": null,
   "metadata": {
    "dotnet_interactive": {
     "language": "fsharp"
    }
   },
   "outputs": [],
   "source": [
    "\r\n",
    "let hintSearch (_, lastHitAreaIndex) currentPosition  =\r\n",
    "    let hintArea = indexedDistricts.[lastHitAreaIndex]\r\n",
    "    let find = snd >> isPointWithinFeature currentPosition\r\n",
    "\r\n",
    "    if find hintArea then Hit, lastHitAreaIndex\r\n",
    "    else Missed, indexedDistricts |> Array.findIndex find\r\n",
    "\r\n",
    "let h::positions = positions\r\n",
    "let init = hintSearch (Missed,0) h\r\n",
    "\r\n",
    "let addressesAreas = (init, positions) ||> List.scan hintSearch "
   ]
  },
  {
   "cell_type": "markdown",
   "metadata": {},
   "source": [
    "Figure out the number how often our suggestion succeded"
   ]
  },
  {
   "cell_type": "code",
   "execution_count": null,
   "metadata": {
    "dotnet_interactive": {
     "language": "fsharp"
    }
   },
   "outputs": [
    {
     "data": {
      "text/html": "<div class=\"dni-plaintext\">80.26589252136047</div>"
     },
     "output_type": "unknown"
    }
   ],
   "source": [
    "let hit = \r\n",
    "    addressesAreas \r\n",
    "    |> List.filter (fst >> (=) Hit) \r\n",
    "    |> List.length \r\n",
    "    |> float\r\n",
    "\r\n",
    "\r\n",
    "hit * 100. / (List.length addressesAreas |> float) |> display\r\n"
   ]
  },
  {
   "cell_type": "markdown",
   "metadata": {},
   "source": [
    "Hmmm, it looks like we avoided a lot of full collection searches !\r\n"
   ]
  }
 ],
 "metadata": {
  "kernelspec": {
   "display_name": ".NET (C#)",
   "language": "C#",
   "name": ".net-csharp"
  },
  "language_info": {
   "file_extension": ".cs",
   "mimetype": "text/x-csharp",
   "name": "C#",
   "pygments_lexer": "csharp",
   "version": "9.0"
  }
 },
 "nbformat": 4,
 "nbformat_minor": 2
}