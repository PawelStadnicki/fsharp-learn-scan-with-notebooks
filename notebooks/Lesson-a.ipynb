{
 "cells": [
  {
   "cell_type": "markdown",
   "metadata": {},
   "source": [
    "<h2>Lesson subject: match areas to each and every address in particular city</h2>"
   ]
  },
  {
   "cell_type": "markdown",
   "metadata": {},
   "source": [
    "In this introduction we are going to get data for wanted city and assign areas to addresses without any (human-guided) optimization."
   ]
  },
  {
   "cell_type": "markdown",
   "metadata": {},
   "source": [
    "It will be a foundation for our later <i>scan</i> variants mentioned in my blog post."
   ]
  },
  {
   "cell_type": "markdown",
   "metadata": {},
   "source": [
    "<ol>\r\n",
    "    <li>Load code that do the hard job for us but is not essential to explain domain problem we solve with it. It will eventually become our geospatial/smart citizens library.</li>\r\n",
    "    <li>City data setup: attributes mapping and local data paths</li>\r\n",
    "</ol> "
   ]
  },
  {
   "cell_type": "code",
   "execution_count": null,
   "metadata": {
    "dotnet_interactive": {
     "language": "fsharp"
    }
   },
   "outputs": [],
   "source": [
    "#load \"\"\"..\\src\\Domain.fsx\"\"\" \r\n",
    "#load \"\"\"..\\src\\Cities\\Toronto.fsx\"\"\" \r\n",
    "\r\n",
    "open Domain"
   ]
  },
  {
   "cell_type": "markdown",
   "metadata": {},
   "source": [
    "3) As we're using open data enabled by proper city goverment, they deserve and often require the attribution. "
   ]
  },
  {
   "cell_type": "code",
   "execution_count": null,
   "metadata": {
    "dotnet_interactive": {
     "language": "fsharp"
    }
   },
   "outputs": [
    {
     "data": {
      "text/plain": "Open Government Licence – Toronto\r\n(https://www.toronto.ca/city-government/data-research-maps/open-data/open-data-licence/)\r\nAttribution: Contains information licensed under the Open Government Licence – Toronto"
     },
     "output_type": "unknown"
    }
   ],
   "source": [
    "Toronto.license.info |> display "
   ]
  },
  {
   "cell_type": "markdown",
   "metadata": {},
   "source": [
    "4) Now we can parse the data. Let's also display short summary of what we got"
   ]
  },
  {
   "cell_type": "code",
   "execution_count": null,
   "metadata": {
    "dotnet_interactive": {
     "language": "fsharp"
    }
   },
   "outputs": [
    {
     "data": {
      "text/plain": "data summary (without limits) -> \r\n areas: 140, streets: 9521, addressess: 527189 \r\n addresses per street (median/mean/std-dev): 32.0/55.3711795/104.1107272"
     },
     "output_type": "unknown"
    }
   ],
   "source": [
    "let addresses , districts, streets, summary = \r\n",
    "    setup Toronto.data Area.Neighbourhoods (Limit.Streets 10) \r\n",
    "\r\n",
    "summary |> display"
   ]
  },
  {
   "cell_type": "markdown",
   "metadata": {},
   "source": [
    "Few mappings that will make our computations easier to reason about later on.\r\n",
    "We translate our areas collection to indexed equivalent because plain indexes are the only data we really need to do the matching."
   ]
  },
  {
   "cell_type": "code",
   "execution_count": null,
   "metadata": {
    "dotnet_interactive": {
     "language": "fsharp"
    }
   },
   "outputs": [],
   "source": [
    "let positions = addresses |> Array.map (fun x -> x.Pos) \r\n",
    "\r\n",
    "let indexedDistricts = districts |> Array.indexed"
   ]
  },
  {
   "cell_type": "markdown",
   "metadata": {},
   "source": [
    "We have everything in place to apply the address/area matching. The execution time depends on the addresses or street limit you provided at #4."
   ]
  },
  {
   "cell_type": "code",
   "execution_count": null,
   "metadata": {
    "dotnet_interactive": {
     "language": "fsharp"
    }
   },
   "outputs": [],
   "source": [
    "\r\n",
    "let noHintSearch currentPosition  =\r\n",
    "    let find = snd >> isPointWithinFeature currentPosition\r\n",
    "    indexedDistricts |> Array.findIndex find\r\n",
    "\r\n",
    "let addressesAreas = positions |> Array.map noHintSearch "
   ]
  },
  {
   "cell_type": "markdown",
   "metadata": {},
   "source": [
    "Display few results:"
   ]
  },
  {
   "cell_type": "code",
   "execution_count": null,
   "metadata": {
    "dotnet_interactive": {
     "language": "fsharp"
    }
   },
   "outputs": [],
   "source": [
    "addressesAreas \r\n",
    "    |> Seq.skip 520 \r\n",
    "    |> Seq.take 10 \r\n",
    "    |> Seq.mapi (fun i x -> {| AddressIndex = i + 520; MatchedAreaIndex = x |})"
   ]
  },
  {
   "cell_type": "markdown",
   "metadata": {},
   "source": [
    "and add a few more formal verifications:"
   ]
  },
  {
   "cell_type": "code",
   "execution_count": null,
   "metadata": {
    "dotnet_interactive": {
     "language": "fsharp"
    }
   },
   "outputs": [],
   "source": [
    "\r\n",
    "let test2 = 500\r\n",
    "let test3 = 5000\r\n",
    "\r\n",
    "let index1 = addressesAreas.[test1]\r\n",
    "let district1 = districts.[index1]\r\n",
    "district1.Attributes.[\"AREA_NAME\"] |> display //Long Branch (19) ?\r\n",
    "\r\n",
    "let index2 = addressesAreas.[test2]\r\n",
    "let district2 = districts.[index2]\r\n",
    "district2.Attributes.[\"AREA_NAME\"] |> display //South Parkdale (85) ?\r\n",
    "\r\n",
    "let index3 = addressesAreas.[test3]\r\n",
    "let district3 = districts.[index3]\r\n",
    "district3.Attributes.[\"AREA_NAME\"] |> display //Briar Hill-Belgravia (108) ?"
   ]
  },
  {
   "cell_type": "markdown",
   "metadata": {},
   "source": [
    "That is all for now. Our goal is the optimization of execution time, to see it in practice checkout other lessons (notebooks) in this module."
   ]
  }
 ],
 "metadata": {
  "language_info": {},
  "orig_nbformat": 3
 },
 "nbformat": 4,
 "nbformat_minor": 2
}