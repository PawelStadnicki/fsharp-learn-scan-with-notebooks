{
 "cells": [
  {
   "cell_type": "markdown",
   "metadata": {},
   "source": [
    "<h2>Lesson subject: avoid unnecessary computation with scan</h2>"
   ]
  },
  {
   "cell_type": "markdown",
   "metadata": {},
   "source": [
    "We are using scan function to provided human-guided hint while searching for area that matches to particular address."
   ]
  },
  {
   "cell_type": "markdown",
   "metadata": {},
   "source": [
    "Let's use the same code to obtain data as in lesson a, but i na one cell."
   ]
  },
  {
   "cell_type": "code",
   "execution_count": null,
   "metadata": {
    "dotnet_interactive": {
     "language": "fsharp"
    }
   },
   "outputs": [
    {
     "data": {
      "text/plain": "Open Government Licence – Toronto\r\n(https://www.toronto.ca/city-government/data-research-maps/open-data/open-data-licence/)\r\nAttribution: Contains information licensed under the Open Government Licence – Toronto"
     },
     "output_type": "unknown"
    },
    {
     "data": {
      "text/plain": "data summary (without limits) -> \r\n areas: 140, streets: 9521, addressess: 527189 \r\n addresses per street (median/mean/std-dev): 32.0/55.3711795/104.1107272"
     },
     "output_type": "unknown"
    }
   ],
   "source": [
    "#load \"\"\"Domain.fsx\"\"\" \r\n",
    "#load \"\"\"Cities\\Toronto.fsx\"\"\" \r\n",
    "\r\n",
    "open Domain\r\n",
    "\r\n",
    "Toronto.license.info |> display \r\n",
    "\r\n",
    "let addresses , districts, streets, summary = \r\n",
    "    setup Toronto.data Area.Neighbourhoods (Limit.Streets 500) \r\n",
    "\r\n",
    "summary |> display\r\n",
    "\r\n",
    "let positions = addresses |> Array.map (fun x -> x.Pos) |> Array.toList\r\n",
    "\r\n",
    "let indexedDistricts = districts |> Array.indexed"
   ]
  },
  {
   "cell_type": "markdown",
   "metadata": {},
   "source": [
    "Now we need to adapt our <i>hintSearch</i> human-driven algorithm slightly.\r\n",
    "To mark computation as avoid or not we should  appropriate annotation. We could use true/false for that but let's use more descriptive type:"
   ]
  },
  {
   "cell_type": "code",
   "execution_count": null,
   "metadata": {
    "dotnet_interactive": {
     "language": "fsharp"
    }
   },
   "outputs": [],
   "source": [
    "\r\n",
    "let hintSearch lastHitAreaIndex currentPosition  =\r\n",
    "    let hintArea = indexedDistricts.[lastHitAreaIndex]\r\n",
    "    let find = snd >> isPointWithinFeature currentPosition\r\n",
    "\r\n",
    "    if find hintArea then lastHitAreaIndex\r\n",
    "    else indexedDistricts |> Array.findIndex find\r\n",
    "\r\n",
    "let h::positions = positions\r\n",
    "let init = hintSearch 0 h\r\n",
    "\r\n",
    "let addressesAreas = (init, positions) ||> List.scan hintSearch "
   ]
  }
 ],
 "metadata": {
  "kernelspec": {
   "display_name": ".NET (C#)",
   "language": "C#",
   "name": ".net-csharp"
  },
  "language_info": {
   "file_extension": ".cs",
   "mimetype": "text/x-csharp",
   "name": "C#",
   "pygments_lexer": "csharp",
   "version": "9.0"
  }
 },
 "nbformat": 4,
 "nbformat_minor": 2
}