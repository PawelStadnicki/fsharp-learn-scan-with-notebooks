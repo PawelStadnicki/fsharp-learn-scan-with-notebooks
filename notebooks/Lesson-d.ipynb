{
 "cells": [
  {
   "cell_type": "markdown",
   "metadata": {},
   "source": [
    "<h2>Lesson subject: introucing parallelism</h2>"
   ]
  },
  {
   "cell_type": "markdown",
   "metadata": {},
   "source": [
    "We are using scan function to provided human-guided hint while searching for area that matches to particular address."
   ]
  },
  {
   "cell_type": "markdown",
   "metadata": {},
   "source": [
    "Let's use the same code to obtain data as in lesson a, but i na one cell."
   ]
  },
  {
   "cell_type": "code",
   "execution_count": null,
   "metadata": {
    "dotnet_interactive": {
     "language": "fsharp"
    }
   },
   "outputs": [
    {
     "data": {
      "application/x.notebook.error-traceback": {
       "ename": "Error",
       "evalue": "unknown (1,1)-(1,1) interactive error type '<>f__AnonymousType1420528876`3' not found in assembly '<emitted>'. A possible cause may be a version incompatibility. You may need to explicitly reference the correct version of this assembly to allow all referenced components to use the correct version.",
       "traceback": []
      }
     },
     "output_type": "unknown"
    }
   ],
   "source": [
    "#load \"\"\"Domain.fsx\"\"\" \r\n",
    "#load \"\"\"Cities\\Toronto.fsx\"\"\" \r\n",
    "\r\n",
    "open Domain\r\n",
    "\r\n",
    "Toronto.license.info |> display \r\n",
    "\r\n",
    "let addresses , districts, streets, summary = \r\n",
    "    setup Toronto.data Area.Neighbourhoods (Limit.Streets 500) \r\n",
    "\r\n",
    "summary |> display\r\n",
    "\r\n",
    "let positions = addresses |> Array.map (fun x -> x.Pos) |> Array.toList\r\n",
    "\r\n",
    "let indexedDistricts = districts |> Array.indexed"
   ]
  },
  {
   "cell_type": "markdown",
   "metadata": {},
   "source": [
    "Now we need to adapt our <i>hintSearch</i> human-driven algorithm slightly.\r\n",
    "To mark computation as avoid or not we should  appropriate annotation. We could use true/false for that but let's use more descriptive type:"
   ]
  },
  {
   "cell_type": "code",
   "execution_count": null,
   "metadata": {
    "dotnet_interactive": {
     "language": "fsharp"
    }
   },
   "outputs": [],
   "source": [
    "\r\n",
    "let hintSearch lastHitAreaIndex currentPosition  =\r\n",
    "    let hintArea = indexedDistricts.[lastHitAreaIndex]\r\n",
    "    let find = snd >> isPointWithinFeature currentPosition\r\n",
    "\r\n",
    "    if find hintArea then lastHitAreaIndex\r\n",
    "    else indexedDistricts |> Array.findIndex find\r\n",
    "\r\n",
    "let results = \r\n",
    "    streets |> Array.Parallel.map (fun street -> \r\n",
    "        let h = street.Positions |> Array.item 0\r\n",
    "        let t = street.Positions |> Array.skip 0\r\n",
    "        let init = hintSearch 0 h\r\n",
    "\r\n",
    "        (init, t) ||> Array.scan hintSearch \r\n",
    "    ) |> Array.collect id "
   ]
  },
  {
   "cell_type": "code",
   "execution_count": null,
   "metadata": {
    "dotnet_interactive": {
     "language": "fsharp"
    }
   },
   "outputs": [],
   "source": [
    "let hintSearch lastHitAreaIndex currentPosition  =\r\n",
    "    let hintArea = indexedDistricts.[lastHitAreaIndex]\r\n",
    "    let find = snd >> isPointWithinFeature currentPosition\r\n",
    "\r\n",
    "    if find hintArea then lastHitAreaIndex\r\n",
    "    else indexedDistricts |> Array.findIndex find\r\n",
    "\r\n",
    "let results = \r\n",
    "    streets |> Array.Parallel.map (fun street -> \r\n",
    "        scan hintSearch street.Positions 0\r\n",
    "    ) |> Array.collect id "
   ]
  },
  {
   "cell_type": "markdown",
   "metadata": {},
   "source": [
    "Remember that we no longer have sequential processing so the addresses are not sorted as they use to be. In order to make them usable we have to return index as well."
   ]
  },
  {
   "cell_type": "code",
   "execution_count": null,
   "metadata": {
    "dotnet_interactive": {
     "language": "fsharp"
    }
   },
   "outputs": [],
   "source": [
    "let hintSearch (_, lastHitAreaIndex) (currentPosition :Address) =\r\n",
    "    let hintArea = indexedDistricts.[lastHitAreaIndex]\r\n",
    "    let find = snd >> isPointWithinFeature currentPosition.Pos\r\n",
    "\r\n",
    "    if find hintArea then currentPosition.Id, lastHitAreaIndex\r\n",
    "    else currentPosition.Id, indexedDistricts |> Array.findIndex find\r\n",
    "\r\n",
    "let results = \r\n",
    "    streets |> Array.Parallel.map (fun street -> \r\n",
    "        let x = street.Addresses |> Array.item 0\r\n",
    "        scan hintSearch street.Addresses (x.Id, 0) \r\n",
    "    ) |> Array.collect id "
   ]
  },
  {
   "cell_type": "code",
   "execution_count": null,
   "metadata": {
    "dotnet_interactive": {
     "language": "fsharp"
    }
   },
   "outputs": [
    {
     "data": {
      "text/html": "<table><thead><tr><th><i>index</i></th><th>AddressIndex</th><th>MatchedAreaIndex</th></tr></thead><tbody><tr><td>0</td><td><div class=\"dni-plaintext\">520</div></td><td><table><thead><tr><th>Item1</th><th>Item2</th></tr></thead><tbody><tr><td><div class=\"dni-plaintext\">9e280c1ebfcee67f</div></td><td><div class=\"dni-plaintext\">48</div></td></tr></tbody></table></td></tr><tr><td>1</td><td><div class=\"dni-plaintext\">521</div></td><td><table><thead><tr><th>Item1</th><th>Item2</th></tr></thead><tbody><tr><td><div class=\"dni-plaintext\">62b605c8e40688b4</div></td><td><div class=\"dni-plaintext\">48</div></td></tr></tbody></table></td></tr><tr><td>2</td><td><div class=\"dni-plaintext\">522</div></td><td><table><thead><tr><th>Item1</th><th>Item2</th></tr></thead><tbody><tr><td><div class=\"dni-plaintext\">7253d21abd885780</div></td><td><div class=\"dni-plaintext\">48</div></td></tr></tbody></table></td></tr><tr><td>3</td><td><div class=\"dni-plaintext\">523</div></td><td><table><thead><tr><th>Item1</th><th>Item2</th></tr></thead><tbody><tr><td><div class=\"dni-plaintext\">f406d457f68d4a28</div></td><td><div class=\"dni-plaintext\">48</div></td></tr></tbody></table></td></tr><tr><td>4</td><td><div class=\"dni-plaintext\">524</div></td><td><table><thead><tr><th>Item1</th><th>Item2</th></tr></thead><tbody><tr><td><div class=\"dni-plaintext\">e9da8a0139a34d82</div></td><td><div class=\"dni-plaintext\">48</div></td></tr></tbody></table></td></tr><tr><td>5</td><td><div class=\"dni-plaintext\">525</div></td><td><table><thead><tr><th>Item1</th><th>Item2</th></tr></thead><tbody><tr><td><div class=\"dni-plaintext\">6979e1a7b804eb7f</div></td><td><div class=\"dni-plaintext\">48</div></td></tr></tbody></table></td></tr><tr><td>6</td><td><div class=\"dni-plaintext\">526</div></td><td><table><thead><tr><th>Item1</th><th>Item2</th></tr></thead><tbody><tr><td><div class=\"dni-plaintext\">aa8c9fccfaee0f81</div></td><td><div class=\"dni-plaintext\">48</div></td></tr></tbody></table></td></tr><tr><td>7</td><td><div class=\"dni-plaintext\">527</div></td><td><table><thead><tr><th>Item1</th><th>Item2</th></tr></thead><tbody><tr><td><div class=\"dni-plaintext\">9dba0858c2666086</div></td><td><div class=\"dni-plaintext\">48</div></td></tr></tbody></table></td></tr><tr><td>8</td><td><div class=\"dni-plaintext\">528</div></td><td><table><thead><tr><th>Item1</th><th>Item2</th></tr></thead><tbody><tr><td><div class=\"dni-plaintext\">2584030c01f55064</div></td><td><div class=\"dni-plaintext\">48</div></td></tr></tbody></table></td></tr><tr><td>9</td><td><div class=\"dni-plaintext\">529</div></td><td><table><thead><tr><th>Item1</th><th>Item2</th></tr></thead><tbody><tr><td><div class=\"dni-plaintext\">b5ac27a97f194385</div></td><td><div class=\"dni-plaintext\">16</div></td></tr></tbody></table></td></tr></tbody></table>"
     },
     "output_type": "unknown"
    }
   ],
   "source": [
    "results \r\n",
    "    |> Seq.skip 520 \r\n",
    "    |> Seq.take 10 \r\n",
    "    |> Seq.mapi (fun i x -> {| AddressIndex = i + 520; MatchedAreaIndex = x |})"
   ]
  }
 ],
 "metadata": {
  "kernelspec": {
   "display_name": ".NET (C#)",
   "language": "C#",
   "name": ".net-csharp"
  },
  "language_info": {
   "file_extension": ".cs",
   "mimetype": "text/x-csharp",
   "name": "C#",
   "pygments_lexer": "csharp",
   "version": "9.0"
  }
 },
 "nbformat": 4,
 "nbformat_minor": 2
}