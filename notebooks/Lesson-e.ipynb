{
 "cells": [
  {
   "cell_type": "markdown",
   "metadata": {},
   "source": [
    "<h2>Lesson subject: working with missing values</h2>"
   ]
  },
  {
   "cell_type": "markdown",
   "metadata": {},
   "source": [
    "We are using scan function to provided human-guided hint while searching for area that matches to particular address."
   ]
  },
  {
   "cell_type": "markdown",
   "metadata": {},
   "source": [
    "Let's use the same code to obtain data as in lesson a, but i na one cell."
   ]
  },
  {
   "cell_type": "code",
   "execution_count": null,
   "metadata": {
    "dotnet_interactive": {
     "language": "fsharp"
    }
   },
   "outputs": [
    {
     "data": {
      "text/plain": "The Open Data Commons – Public Domain Dedication and Licence\r\n(http://www.opendatacommons.org/licenses/pddl/1.0/)"
     },
     "output_type": "unknown"
    },
    {
     "data": {
      "text/plain": "data summary (without limits) -> \r\n areas: 129, streets: 2214, addressess: 108618 \r\n addresses per street (median/mean/std-dev): 27.0/49.0596206/81.04981685"
     },
     "output_type": "unknown"
    }
   ],
   "source": [
    "#load \"\"\"Domain.fsx\"\"\" \r\n",
    "#load \"\"\"Cities\\Florence.fsx\"\"\" \r\n",
    "\r\n",
    "open Domain\r\n",
    "\r\n",
    "Florence.license.info |> display \r\n",
    "\r\n",
    "let addresses , districts, streets, summary = \r\n",
    "    setup Florence.data Area.Wards Limit.NoLimit // (Limit.Streets 500) \r\n",
    "\r\n",
    "summary |> display\r\n",
    "\r\n",
    "let positions = addresses |> Array.map (fun x -> x.Pos) \r\n",
    "\r\n",
    "let indexedDistricts = districts |> Array.indexed"
   ]
  },
  {
   "cell_type": "markdown",
   "metadata": {},
   "source": [
    "Now we need to adapt our <i>hintSearch</i> human-driven algorithm slightly.\r\n",
    "To mark computation as avoid or not we should  appropriate annotation. We could use true/false for that but let's use more descriptive type:"
   ]
  },
  {
   "cell_type": "code",
   "execution_count": null,
   "metadata": {
    "dotnet_interactive": {
     "language": "fsharp"
    }
   },
   "outputs": [
    {
     "data": {
      "application/x.notebook.error-traceback": {
       "ename": "Error",
       "evalue": "System.Collections.Generic.KeyNotFoundException: An index satisfying the predicate was not found in the collection.\r\n   at Microsoft.FSharp.Collections.ArrayModule.go@1065-1[T](FSharpFunc`2 predicate, T[] array, Int32 len, Int32 n) in F:\\workspace\\_work\\1\\s\\src\\fsharp\\FSharp.Core\\array.fs:line 1067\r\n   at Microsoft.FSharp.Collections.ArrayModule.FindIndex[T](FSharpFunc`2 predicate, T[] array) in F:\\workspace\\_work\\1\\s\\src\\fsharp\\FSharp.Core\\array.fs:line 1071\r\n   at FSI_0012.results@8-1.Invoke(Int32 lastHitAreaIndex, Tuple`2 tupledArg)\r\n   at Microsoft.FSharp.Collections.ArrayModule.scanSubLeft[a,b](FSharpFunc`2 f, a initState, b[] array, Int32 start, Int32 fin) in F:\\workspace\\_work\\1\\s\\src\\fsharp\\FSharp.Core\\array.fs:line 950\r\n   at Microsoft.FSharp.Collections.ArrayModule.Scan[T,TState](FSharpFunc`2 folder, TState state, T[] array) in F:\\workspace\\_work\\1\\s\\src\\fsharp\\FSharp.Core\\array.fs:line 958\r\n   at <StartupCode$FSI_0012>.$FSI_0012.main@()",
       "traceback": []
      }
     },
     "output_type": "unknown"
    }
   ],
   "source": [
    "let hintSearch lastHitAreaIndex currentPosition  =\r\n",
    "    let hintArea = indexedDistricts.[lastHitAreaIndex]\r\n",
    "    let find = snd >> isPointWithinFeature currentPosition\r\n",
    "\r\n",
    "    if find hintArea then lastHitAreaIndex\r\n",
    "    else indexedDistricts |> Array.findIndex find\r\n",
    "\r\n",
    "let results = scan hintSearch positions 0\r\n"
   ]
  },
  {
   "cell_type": "code",
   "execution_count": null,
   "metadata": {
    "dotnet_interactive": {
     "language": "fsharp"
    }
   },
   "outputs": [],
   "source": [
    "let hintSearch lastHitAreaIndex currentPosition =\r\n",
    "\r\n",
    "    let find = snd >> isPointWithinFeature currentPosition\r\n",
    "    let searchAll () = indexedDistricts |> Array.tryFindIndex find\r\n",
    "\r\n",
    "    match lastHitAreaIndex with\r\n",
    "    | Some hint when find indexedDistricts.[hint]-> Some hint\r\n",
    "    | _ -> searchAll ()\r\n",
    "    \r\n",
    "\r\n",
    "let results = scan hintSearch positions None "
   ]
  },
  {
   "cell_type": "markdown",
   "metadata": {},
   "source": [
    "Remember that we no longer have sequential processing so the addresses are not sorted as they use to be. In order to make them usable we have to return index as well."
   ]
  },
  {
   "cell_type": "code",
   "execution_count": null,
   "metadata": {
    "dotnet_interactive": {
     "language": "fsharp"
    }
   },
   "outputs": [
    {
     "data": {
      "text/html": "<div class=\"dni-plaintext\">103</div>"
     },
     "output_type": "unknown"
    }
   ],
   "source": [
    "// missing values\r\n",
    "results |> Array.filter Option.isNone |> Array.length"
   ]
  },
  {
   "cell_type": "code",
   "execution_count": null,
   "metadata": {
    "dotnet_interactive": {
     "language": "fsharp"
    }
   },
   "outputs": [
    {
     "data": {
      "text/html": "<div class=\"dni-plaintext\">108516</div>"
     },
     "output_type": "unknown"
    }
   ],
   "source": [
    "// matched values\r\n",
    "results |> Array.choose id |> Array.length"
   ]
  },
  {
   "cell_type": "code",
   "execution_count": null,
   "metadata": {
    "dotnet_interactive": {
     "language": "fsharp"
    }
   },
   "outputs": [
    {
     "data": {
      "text/html": "<table><thead><tr><th><i>index</i></th><th>value</th></tr></thead><tbody><tr><td>0</td><td><div class=\"dni-plaintext\">9</div></td></tr><tr><td>1</td><td><div class=\"dni-plaintext\">9</div></td></tr><tr><td>2</td><td><div class=\"dni-plaintext\">9</div></td></tr><tr><td>3</td><td><div class=\"dni-plaintext\">9</div></td></tr><tr><td>4</td><td><div class=\"dni-plaintext\">9</div></td></tr><tr><td>5</td><td><div class=\"dni-plaintext\">9</div></td></tr><tr><td>6</td><td><div class=\"dni-plaintext\">9</div></td></tr><tr><td>7</td><td><div class=\"dni-plaintext\">9</div></td></tr><tr><td>8</td><td><div class=\"dni-plaintext\">9</div></td></tr><tr><td>9</td><td><div class=\"dni-plaintext\">9</div></td></tr></tbody></table>"
     },
     "output_type": "unknown"
    }
   ],
   "source": [
    "results |> Array.choose id |> Array.take 10"
   ]
  }
 ],
 "metadata": {
  "kernelspec": {
   "display_name": ".NET (C#)",
   "language": "C#",
   "name": ".net-csharp"
  },
  "language_info": {
   "file_extension": ".cs",
   "mimetype": "text/x-csharp",
   "name": "C#",
   "pygments_lexer": "csharp",
   "version": "9.0"
  }
 },
 "nbformat": 4,
 "nbformat_minor": 2
}